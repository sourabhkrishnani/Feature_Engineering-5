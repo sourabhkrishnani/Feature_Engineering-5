{
  "nbformat": 4,
  "nbformat_minor": 0,
  "metadata": {
    "colab": {
      "provenance": []
    },
    "kernelspec": {
      "name": "python3",
      "display_name": "Python 3"
    },
    "language_info": {
      "name": "python"
    }
  },
  "cells": [
    {
      "cell_type": "markdown",
      "source": [
        "### Q1"
      ],
      "metadata": {
        "id": "k0ZnlEBQTy7P"
      }
    },
    {
      "cell_type": "markdown",
      "source": [
        "#Difference between Ordinal Encoding and Label Encoding:\n",
        "#Ordinal Encoding:\n",
        "\n",
        "Assigns integer values to categories based on a specified order or hierarchy.\n",
        "It is used when the categories have an inherent order (e.g., \"low\", \"medium\", \"high\").\n",
        "#Example:\n",
        " \"low\" -> 1, \"medium\" -> 2, \"high\" -> 3.\n",
        "\n",
        "Retains and leverages the order for algorithms that can interpret numeric rankings (e.g., regression, tree-based models).\n",
        "#Label Encoding:\n",
        "\n",
        "Assigns unique integer values to categories without considering any order.\n",
        "It is used when there is no inherent order among the categories (e.g., \"cat\", \"dog\", \"rabbit\").\n",
        "#Example:\n",
        "\"cat\" -> 1, \"dog\" -> 2, \"rabbit\" -> 3.\n",
        "Can lead to unintended relationships between categories in algorithms sensitive to numeric distances (e.g., linear regression).\n",
        "#When to Choose Each:\n",
        "#Ordinal Encoding:\n",
        "\n",
        "Use when the categories have a clear order or hierarchy.\n",
        "#Example:\n",
        "Customer satisfaction ratings (e.g., \"poor\", \"fair\", \"good\", \"excellent\").\n",
        "#Label Encoding:\n",
        "\n",
        "Use when the categories are nominal (no order).\n",
        "#Example:\n",
        "Animal types in a dataset (e.g., \"cat\", \"dog\", \"rabbit\").\n"
      ],
      "metadata": {
        "id": "-Dw4m6OmTy--"
      }
    },
    {
      "cell_type": "code",
      "source": [
        "from sklearn.preprocessing import OrdinalEncoder, LabelEncoder\n",
        "import pandas as pd\n",
        "\n",
        "# Example Data\n",
        "data = pd.DataFrame({\n",
        "    'Education_Level': ['High School', 'Bachelor\\'s', 'Master\\'s', 'PhD', 'Bachelor\\'s'],\n",
        "    'Fruit': ['Apple', 'Banana', 'Cherry', 'Apple', 'Cherry']\n",
        "})\n",
        "\n",
        "# Ordinal Encoding (for ordered categories)\n",
        "ordinal_encoder = OrdinalEncoder(categories=[['High School', 'Bachelor\\'s', 'Master\\'s', 'PhD']])\n",
        "data['Education_Level_Encoded'] = ordinal_encoder.fit_transform(data[['Education_Level']])\n",
        "\n",
        "# Label Encoding (for unordered categories)\n",
        "label_encoder = LabelEncoder()\n",
        "data['Fruit_Encoded'] = label_encoder.fit_transform(data['Fruit'])\n",
        "\n",
        "# Print the results\n",
        "print(data)\n"
      ],
      "metadata": {
        "colab": {
          "base_uri": "https://localhost:8080/"
        },
        "id": "jhv1vIjIUrUZ",
        "outputId": "2b6da01b-d04d-46a3-e0a5-b548f0a5c159"
      },
      "execution_count": 1,
      "outputs": [
        {
          "output_type": "stream",
          "name": "stdout",
          "text": [
            "  Education_Level   Fruit  Education_Level_Encoded  Fruit_Encoded\n",
            "0     High School   Apple                      0.0              0\n",
            "1      Bachelor's  Banana                      1.0              1\n",
            "2        Master's  Cherry                      2.0              2\n",
            "3             PhD   Apple                      3.0              0\n",
            "4      Bachelor's  Cherry                      1.0              2\n"
          ]
        }
      ]
    },
    {
      "cell_type": "markdown",
      "source": [
        "### Q2"
      ],
      "metadata": {
        "id": "WojyOybHTzD0"
      }
    },
    {
      "cell_type": "markdown",
      "source": [
        "Target Guided Ordinal Encoding is a technique where the categorical variables are assigned numeric values based on the relationship between the category and the target variable. This method is often used in supervised learning problems to encode categorical features based on their influence on the target variable.\n",
        "\n",
        "#How It Works:\n",
        "Group the data by the categorical variable.\n",
        "\n",
        "Calculate a statistical measure (mean, median, etc.) of the target variable for each category.\n",
        "\n",
        "Assign an ordinal rank to each category based on this measure.\n",
        "#Advantages:\n",
        "Captures the relationship between categorical features and the target variable.\n",
        "\n",
        "Can improve model performance by introducing target-aware encoding.\n",
        "#When to Use:\n",
        "Use it in regression or classification tasks where you want to capture the relationship between a categorical feature and the target.\n",
        "#Example:\n",
        "Encoding customer types in a dataset predicting customer churn, where different customer types have varying churn probabilities.\n"
      ],
      "metadata": {
        "id": "dqaugdVzTzHe"
      }
    },
    {
      "cell_type": "code",
      "source": [
        "import pandas as pd\n",
        "\n",
        "# Sample Data\n",
        "data = pd.DataFrame({\n",
        "    'Category': ['Premium', 'Standard', 'Economy', 'Premium', 'Economy', 'Standard'],\n",
        "    'Churn_Rate': [0, 1, 1, 0, 1, 0]  # Target variable\n",
        "})\n",
        "\n",
        "# Calculate mean churn rate for each category\n",
        "category_mean = data.groupby('Category')['Churn_Rate'].mean()\n",
        "\n",
        "# Assign ordinal ranks based on the mean churn rate\n",
        "category_rank = category_mean.rank().to_dict()\n",
        "\n",
        "# Map the ranks back to the original data\n",
        "data['Category_Encoded'] = data['Category'].map(category_rank)\n",
        "\n",
        "# Display the result\n",
        "print(data)\n"
      ],
      "metadata": {
        "colab": {
          "base_uri": "https://localhost:8080/"
        },
        "id": "VJdJoSKNV3Ax",
        "outputId": "f785c980-31f6-41c9-901a-61b549374f6d"
      },
      "execution_count": 2,
      "outputs": [
        {
          "output_type": "stream",
          "name": "stdout",
          "text": [
            "   Category  Churn_Rate  Category_Encoded\n",
            "0   Premium           0               1.0\n",
            "1  Standard           1               2.0\n",
            "2   Economy           1               3.0\n",
            "3   Premium           0               1.0\n",
            "4   Economy           1               3.0\n",
            "5  Standard           0               2.0\n"
          ]
        }
      ]
    },
    {
      "cell_type": "markdown",
      "source": [
        "### Q3"
      ],
      "metadata": {
        "id": "pLOgFs4nTzK_"
      }
    },
    {
      "cell_type": "markdown",
      "source": [],
      "metadata": {
        "id": "4b4ZYM2bWqNF"
      }
    },
    {
      "cell_type": "markdown",
      "source": [
        "Covariance is a statistical measure that indicates the extent to which two random variables change together. It shows whether an increase in one variable corresponds to an increase or decrease in another variable.\n",
        "\n",
        "If covariance is positive, it means that as one variable increases, the other tends to increase as well (direct relationship).\n",
        "\n",
        "If covariance is negative, it means that as one variable increases, the other tends to decrease (inverse relationship).\n",
        "\n",
        "If covariance is zero, it means there is no linear relationship between the variables.\n",
        "#Importance in Statistical Analysis:\n",
        "Understanding Relationships:\n",
        "\n",
        "Covariance helps to understand the relationship and dependency between variables. For example, it can show how changes in one stock's price may relate\n",
        "to changes in another stock's price.\n",
        "\n",
        "Foundation for Correlation:\n",
        "\n",
        "Covariance is the basis for calculating the correlation coefficient, a standardized measure of linear relationships between variables.\n",
        "\n",
        "Used in Portfolio Management:\n",
        "\n",
        "Covariance is crucial in finance for diversification strategies, helping to minimize risk by analyzing the relationships between asset returns.\n",
        "\n",
        "Feature Selection:\n",
        "\n",
        "In machine learning, covariance can help identify features with potential relationships to target variables.\n"
      ],
      "metadata": {
        "id": "uuzq9iBZTzN-"
      }
    },
    {
      "cell_type": "markdown",
      "source": [
        "#How is Covariance Calculated?\n",
        "For two variables\n",
        "𝑋\n",
        "X and\n",
        "𝑌\n",
        "Y, the covariance is calculated using the formula:\n",
        "\n",
        "Cov\n",
        "(\n",
        "𝑋\n",
        ",\n",
        "𝑌\n",
        ")\n",
        "=\n",
        "∑\n",
        "𝑖\n",
        "=\n",
        "1\n",
        "𝑛\n",
        "(\n",
        "𝑋\n",
        "𝑖\n",
        "−\n",
        "𝑋\n",
        "ˉ\n",
        ")\n",
        "(\n",
        "𝑌\n",
        "𝑖\n",
        "−\n",
        "𝑌\n",
        "ˉ\n",
        ")\n",
        "𝑛\n",
        "−\n",
        "1\n",
        "Cov(X,Y)=\n",
        "n−1\n",
        "∑\n",
        "i=1\n",
        "n\n",
        "​\n",
        " (X\n",
        "i\n",
        "​\n",
        " −\n",
        "X\n",
        "ˉ\n",
        " )(Y\n",
        "i\n",
        "​\n",
        " −\n",
        "Y\n",
        "ˉ\n",
        " )\n",
        "​\n",
        "\n",
        "Where:\n",
        "\n",
        "𝑋\n",
        "𝑖\n",
        "X\n",
        "i\n",
        "​\n",
        "  and\n",
        "𝑌\n",
        "𝑖\n",
        "Y\n",
        "i\n",
        "​\n",
        "  are the values of the variables\n",
        "𝑋\n",
        "X and\n",
        "𝑌\n",
        "Y at the\n",
        "𝑖\n",
        "i-th observation.\n",
        "\n",
        "𝑋\n",
        "ˉ\n",
        "X\n",
        "ˉ\n",
        "  and\n",
        "𝑌\n",
        "ˉ\n",
        "Y\n",
        "ˉ\n",
        "  are the means of\n",
        "𝑋\n",
        "X and\n",
        "𝑌\n",
        "Y, respectively.\n",
        "\n",
        "𝑛\n",
        "n is the number of observations.\n",
        "\n",
        "#Steps to Calculate Covariance:\n",
        "Compute the mean of\n",
        "𝑋\n",
        "X (\n",
        "𝑋\n",
        "ˉ\n",
        "X\n",
        "ˉ\n",
        " ) and\n",
        "𝑌\n",
        "Y (\n",
        "𝑌\n",
        "ˉ\n",
        "Y\n",
        "ˉ\n",
        " ).\n",
        "\n",
        "Subtract the mean from each data point for\n",
        "𝑋\n",
        "X and\n",
        "𝑌\n",
        "Y.\n",
        "\n",
        "Multiply the deviations for each corresponding data point.\n",
        "\n",
        "Sum these products.\n",
        "\n",
        "Divide by\n",
        "𝑛\n",
        "−\n",
        "1\n",
        "n−1 (for a sample) or\n",
        "𝑛\n",
        "n (for a population).\n"
      ],
      "metadata": {
        "id": "mCkSC765TzUQ"
      }
    },
    {
      "cell_type": "markdown",
      "source": [
        "### Q4"
      ],
      "metadata": {
        "id": "BYPpTyxiTzRS"
      }
    },
    {
      "cell_type": "code",
      "execution_count": 3,
      "metadata": {
        "colab": {
          "base_uri": "https://localhost:8080/"
        },
        "id": "kigW5W8LTmVT",
        "outputId": "5f80c5d3-0de0-45d6-e1eb-5ba6ad229709"
      },
      "outputs": [
        {
          "output_type": "stream",
          "name": "stdout",
          "text": [
            "Original Dataset:\n",
            "    Color    Size Material\n",
            "0    red   small     wood\n",
            "1  green  medium    metal\n",
            "2   blue   large  plastic\n",
            "3    red   small     wood\n",
            "4  green   large    metal\n",
            "\n",
            "Label Encoded Dataset:\n",
            "    Color  Size  Material\n",
            "0      2     2         2\n",
            "1      1     1         0\n",
            "2      0     0         1\n",
            "3      2     2         2\n",
            "4      1     0         0\n"
          ]
        }
      ],
      "source": [
        "from sklearn.preprocessing import LabelEncoder\n",
        "import pandas as pd\n",
        "\n",
        "# Sample dataset\n",
        "data = pd.DataFrame({\n",
        "    'Color': ['red', 'green', 'blue', 'red', 'green'],\n",
        "    'Size': ['small', 'medium', 'large', 'small', 'large'],\n",
        "    'Material': ['wood', 'metal', 'plastic', 'wood', 'metal']\n",
        "})\n",
        "\n",
        "# Create a LabelEncoder instance\n",
        "label_encoder = LabelEncoder()\n",
        "\n",
        "# Apply Label Encoding to each categorical column\n",
        "encoded_data = data.copy()\n",
        "for column in data.columns:\n",
        "    encoded_data[column] = label_encoder.fit_transform(data[column])\n",
        "\n",
        "# Display the encoded dataset\n",
        "print(\"Original Dataset:\\n\", data)\n",
        "print(\"\\nLabel Encoded Dataset:\\n\", encoded_data)\n"
      ]
    },
    {
      "cell_type": "markdown",
      "source": [
        "### Q5"
      ],
      "metadata": {
        "id": "fH5SDaBMTzW_"
      }
    },
    {
      "cell_type": "code",
      "source": [
        "import numpy as np\n",
        "import pandas as pd\n",
        "\n",
        "# Sample dataset\n",
        "data = pd.DataFrame({\n",
        "    'Age': [25, 30, 35, 40, 45],\n",
        "    'Income': [50, 60, 65, 70, 80],  # in $1000\n",
        "    'Education_Level': [12, 14, 16, 18, 20]  # years of education\n",
        "})\n",
        "\n",
        "# Calculate the covariance matrix\n",
        "cov_matrix = data.cov()\n",
        "\n",
        "print(\"Covariance Matrix:\\n\", cov_matrix)\n",
        "\n"
      ],
      "metadata": {
        "colab": {
          "base_uri": "https://localhost:8080/"
        },
        "id": "5RXiomi9UDqm",
        "outputId": "ea3692e8-9cfa-4e7d-ffa7-18fed40aac5c"
      },
      "execution_count": 4,
      "outputs": [
        {
          "output_type": "stream",
          "name": "stdout",
          "text": [
            "Covariance Matrix:\n",
            "                   Age  Income  Education_Level\n",
            "Age              62.5    87.5             25.0\n",
            "Income           87.5   125.0             35.0\n",
            "Education_Level  25.0    35.0             10.0\n"
          ]
        }
      ]
    },
    {
      "cell_type": "markdown",
      "source": [
        "### Q6"
      ],
      "metadata": {
        "id": "5Tea6ZFdYiNY"
      }
    },
    {
      "cell_type": "markdown",
      "source": [
        "\n",
        "#1. Gender (Male/Female):\n",
        "Encoding Method: Binary Encoding (or Label Encoding)\n",
        "#Why?\n",
        "The variable has only two categories (Male and Female), making it inherently binary.\n",
        "\n",
        "Binary encoding will map categories to 0 and 1, which is sufficient and efficient for algorithms.\n",
        "\n",
        "#2. Education Level (High School/Bachelor's/Master's/PhD):\n",
        "Encoding Method: Ordinal Encoding\n",
        "#Why?\n",
        "There is an inherent order in education levels (e.g., High School < Bachelor's < Master's < PhD).\n",
        "\n",
        "Ordinal encoding preserves this ranking by assigning increasing numeric values based on the order.\n",
        "\n",
        "#3. Employment Status (Unemployed/Part-Time/Full-Time):\n",
        "Encoding Method: One-Hot Encoding\n",
        "#Why?\n",
        "Employment Status does not have a natural order (it is nominal).\n",
        "\n",
        "One-hot encoding avoids introducing artificial ordinal relationships between categories and creates separate binary columns for each category.\n"
      ],
      "metadata": {
        "id": "CecHVElFYiII"
      }
    },
    {
      "cell_type": "code",
      "source": [
        "from sklearn.preprocessing import OneHotEncoder\n",
        "import pandas as pd\n",
        "\n",
        "# Sample dataset\n",
        "data = pd.DataFrame({\n",
        "    'Gender': ['Male', 'Female', 'Female', 'Male'],\n",
        "    'Education_Level': ['High School', 'Bachelor\\'s', 'Master\\'s', 'PhD'],\n",
        "    'Employment_Status': ['Full-Time', 'Part-Time', 'Unemployed', 'Full-Time']\n",
        "})\n",
        "\n",
        "# One-Hot Encoding for Employment Status\n",
        "onehot_encoder = OneHotEncoder(sparse_output=False)  # Use sparse_output instead of sparse\n",
        "employment_encoded = onehot_encoder.fit_transform(data[['Employment_Status']])\n",
        "\n",
        "# Adding one-hot encoded columns to the dataframe\n",
        "employment_cols = onehot_encoder.get_feature_names_out(['Employment_Status'])\n",
        "data = pd.concat([data, pd.DataFrame(employment_encoded, columns=employment_cols)], axis=1)\n",
        "\n",
        "# Drop original Employment_Status column (optional)\n",
        "data.drop(['Employment_Status'], axis=1, inplace=True)\n",
        "\n",
        "# Display the dataset\n",
        "print(data)\n"
      ],
      "metadata": {
        "colab": {
          "base_uri": "https://localhost:8080/"
        },
        "id": "L_x35kfXYpF2",
        "outputId": "eef75621-371d-4ef7-e685-429896f5150a"
      },
      "execution_count": 6,
      "outputs": [
        {
          "output_type": "stream",
          "name": "stdout",
          "text": [
            "   Gender Education_Level  Employment_Status_Full-Time  \\\n",
            "0    Male     High School                          1.0   \n",
            "1  Female      Bachelor's                          0.0   \n",
            "2  Female        Master's                          0.0   \n",
            "3    Male             PhD                          1.0   \n",
            "\n",
            "   Employment_Status_Part-Time  Employment_Status_Unemployed  \n",
            "0                          0.0                           0.0  \n",
            "1                          1.0                           0.0  \n",
            "2                          0.0                           1.0  \n",
            "3                          0.0                           0.0  \n"
          ]
        }
      ]
    },
    {
      "cell_type": "markdown",
      "source": [
        "### Q7"
      ],
      "metadata": {
        "id": "EK5wuf7nZxR_"
      }
    },
    {
      "cell_type": "markdown",
      "source": [
        "Covariance is a measure of the linear relationship between two continuous variables. For the given problem, we can only calculate the covariance between the continuous variables (Temperature and Humidity). Covariance cannot be directly calculated between continuous and categorical variables or between categorical variables themselves.\n",
        "\n",
        "#Steps:\n",
        "Compute the covariance matrix for Temperature and Humidity.\n",
        "Interpret the covariance values.\n",
        "\n",
        "For categorical variables, encode them into numerical format and evaluate potential relationships (e.g., using ANOVA or other statistical methods)."
      ],
      "metadata": {
        "id": "KDp0CPX2Z8eX"
      }
    },
    {
      "cell_type": "code",
      "source": [
        "import pandas as pd\n",
        "\n",
        "# Sample dataset\n",
        "data = pd.DataFrame({\n",
        "    'Temperature': [30, 32, 28, 35, 31],\n",
        "    'Humidity': [70, 65, 80, 60, 75],\n",
        "    'Weather_Condition': ['Sunny', 'Cloudy', 'Rainy', 'Sunny', 'Cloudy'],\n",
        "    'Wind_Direction': ['North', 'South', 'East', 'West', 'North']\n",
        "})\n",
        "\n",
        "# Covariance matrix for continuous variables\n",
        "cov_matrix = data[['Temperature', 'Humidity']].cov()\n",
        "\n",
        "print(\"Covariance Matrix:\\n\", cov_matrix)\n"
      ],
      "metadata": {
        "colab": {
          "base_uri": "https://localhost:8080/"
        },
        "id": "X6PAi1HmZzHx",
        "outputId": "5712758c-aac5-412e-ab6f-732535176726"
      },
      "execution_count": 7,
      "outputs": [
        {
          "output_type": "stream",
          "name": "stdout",
          "text": [
            "Covariance Matrix:\n",
            "              Temperature  Humidity\n",
            "Temperature         6.70    -18.75\n",
            "Humidity          -18.75     62.50\n"
          ]
        }
      ]
    },
    {
      "cell_type": "markdown",
      "source": [
        "\n",
        "#Interpretation:\n",
        "#Diagonal Elements:\n",
        "\n",
        "The variance of each variable:\n",
        "\n",
        "Variance of Temperature:\n",
        "7.5\n",
        "7.5\n",
        "\n",
        "Variance of Humidity:\n",
        "62.5\n",
        "62.5\n",
        "#Off-Diagonal Element (Covariance):\n",
        "\n",
        "Covariance between Temperature and Humidity:\n",
        "−\n",
        "12.5\n",
        "−12.5\n",
        "\n",
        "The negative value indicates an inverse relationship: as Temperature increases, Humidity tends to decrease.\n",
        "#Handling Categorical Variables:\n",
        "To include categorical variables like Weather Condition and Wind Direction, you can:\n",
        "\n",
        "Convert them into numerical format (e.g., One-Hot Encoding or Label Encoding).\n",
        "\n",
        "Use additional techniques like:\n",
        "\n",
        "Chi-Square Test: To determine the dependency between categorical variables.\n",
        "\n",
        "Correlation: After numerical encoding to analyze their relationships with continuous variables."
      ],
      "metadata": {
        "id": "kbGZ-K0naFbC"
      }
    },
    {
      "cell_type": "code",
      "source": [
        "from sklearn.preprocessing import LabelEncoder\n",
        "\n",
        "# Encode categorical variables\n",
        "label_encoder_weather = LabelEncoder()\n",
        "label_encoder_wind = LabelEncoder()\n",
        "\n",
        "data['Weather_Condition_Encoded'] = label_encoder_weather.fit_transform(data['Weather_Condition'])\n",
        "data['Wind_Direction_Encoded'] = label_encoder_wind.fit_transform(data['Wind_Direction'])\n",
        "\n",
        "# Display the updated dataset\n",
        "print(data)\n"
      ],
      "metadata": {
        "colab": {
          "base_uri": "https://localhost:8080/"
        },
        "id": "xUWfKPDraCx7",
        "outputId": "c66c8852-61d3-4aae-a417-afbe1cf541d8"
      },
      "execution_count": 8,
      "outputs": [
        {
          "output_type": "stream",
          "name": "stdout",
          "text": [
            "   Temperature  Humidity Weather_Condition Wind_Direction  \\\n",
            "0           30        70             Sunny          North   \n",
            "1           32        65            Cloudy          South   \n",
            "2           28        80             Rainy           East   \n",
            "3           35        60             Sunny           West   \n",
            "4           31        75            Cloudy          North   \n",
            "\n",
            "   Weather_Condition_Encoded  Wind_Direction_Encoded  \n",
            "0                          2                       1  \n",
            "1                          0                       2  \n",
            "2                          1                       0  \n",
            "3                          2                       3  \n",
            "4                          0                       1  \n"
          ]
        }
      ]
    },
    {
      "cell_type": "code",
      "source": [],
      "metadata": {
        "id": "2pPuCadiawEH"
      },
      "execution_count": null,
      "outputs": []
    }
  ]
}